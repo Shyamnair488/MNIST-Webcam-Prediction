{
  "cells": [
    {
      "cell_type": "markdown",
      "source": [
        "# **MNIST WEBCAM CODE**"
      ],
      "metadata": {
        "id": "ccjLIv6zv8aj"
      }
    },
    {
      "cell_type": "markdown",
      "source": [
        "Import"
      ],
      "metadata": {
        "id": "buUOKRmd11iB"
      }
    },
    {
      "cell_type": "code",
      "source": [
        "import tensorflow as tf\n",
        "from tensorflow.keras.datasets import mnist\n",
        "from tensorflow.keras.models import Sequential\n",
        "from tensorflow.keras.layers import Conv2D, MaxPooling2D, Flatten, Dense, Dropout\n",
        "from tensorflow.keras.callbacks import ModelCheckpoint"
      ],
      "metadata": {
        "id": "5ZOfMrYkwAxl"
      },
      "execution_count": 29,
      "outputs": []
    },
    {
      "cell_type": "markdown",
      "source": [
        "Load MNIST dataset"
      ],
      "metadata": {
        "id": "wwhl-66U2Jlw"
      }
    },
    {
      "cell_type": "code",
      "source": [
        "\n",
        "(x_train, y_train), (x_test, y_test) = mnist.load_data()"
      ],
      "metadata": {
        "id": "ngfTNUD6wGBM"
      },
      "execution_count": 15,
      "outputs": []
    },
    {
      "cell_type": "markdown",
      "source": [
        "Data normalization"
      ],
      "metadata": {
        "id": "nXWQ-rV52MU3"
      }
    },
    {
      "cell_type": "code",
      "source": [
        "x_train = x_train.reshape(-1, 28, 28, 1) / 255.0\n",
        "x_test = x_test.reshape(-1, 28, 28, 1) / 255.0"
      ],
      "metadata": {
        "id": "BF0UcfZ-wH6C"
      },
      "execution_count": 16,
      "outputs": []
    },
    {
      "cell_type": "markdown",
      "source": [
        " Data augmentation"
      ],
      "metadata": {
        "id": "D1inO9wN2O2m"
      }
    },
    {
      "cell_type": "code",
      "source": [
        "datagen = ImageDataGenerator(rotation_range=10, width_shift_range=0.1, height_shift_range=0.1, zoom_range=0.1)\n",
        "datagen.fit(x_train)"
      ],
      "metadata": {
        "id": "gBPSarUgwKCa"
      },
      "execution_count": 17,
      "outputs": []
    },
    {
      "cell_type": "markdown",
      "source": [
        "Model"
      ],
      "metadata": {
        "id": "umdJ42aA2SlN"
      }
    },
    {
      "cell_type": "code",
      "source": [
        "model = Sequential([\n",
        "    Conv2D(32, (3,3), activation='relu', input_shape=(28, 28, 1)),\n",
        "    MaxPooling2D(2, 2),\n",
        "    Conv2D(64, (3,3), activation='relu'),\n",
        "    MaxPooling2D(2,2),\n",
        "    Flatten(),\n",
        "    Dense(128, activation='relu'),\n",
        "    Dropout(0.25),\n",
        "    Dense(10, activation='softmax')\n",
        "])"
      ],
      "metadata": {
        "id": "DomHupeewMOg"
      },
      "execution_count": 18,
      "outputs": []
    },
    {
      "cell_type": "code",
      "source": [
        "model.compile(optimizer='adam', loss='sparse_categorical_crossentropy', metrics=['accuracy'])"
      ],
      "metadata": {
        "id": "9zfcGfGhwOb8"
      },
      "execution_count": 19,
      "outputs": []
    },
    {
      "cell_type": "markdown",
      "source": [
        "Train the model with augmented data"
      ],
      "metadata": {
        "id": "Ug00KH1p2V59"
      }
    },
    {
      "cell_type": "code",
      "source": [
        "history = model.fit(datagen.flow(x_train, y_train, batch_size=32), epochs=10, validation_data=(x_test, y_test))\n"
      ],
      "metadata": {
        "colab": {
          "base_uri": "https://localhost:8080/"
        },
        "id": "nYrFqRU9wQaI",
        "outputId": "2ecf9a48-4077-4b80-ddd0-7731e988c573"
      },
      "execution_count": 20,
      "outputs": [
        {
          "output_type": "stream",
          "name": "stdout",
          "text": [
            "Epoch 1/10\n",
            "1875/1875 [==============================] - 88s 46ms/step - loss: 0.3046 - accuracy: 0.9032 - val_loss: 0.0450 - val_accuracy: 0.9841\n",
            "Epoch 2/10\n",
            "1875/1875 [==============================] - 86s 46ms/step - loss: 0.1181 - accuracy: 0.9630 - val_loss: 0.0309 - val_accuracy: 0.9894\n",
            "Epoch 3/10\n",
            "1875/1875 [==============================] - 82s 44ms/step - loss: 0.0889 - accuracy: 0.9735 - val_loss: 0.0341 - val_accuracy: 0.9878\n",
            "Epoch 4/10\n",
            "1875/1875 [==============================] - 76s 40ms/step - loss: 0.0769 - accuracy: 0.9769 - val_loss: 0.0231 - val_accuracy: 0.9923\n",
            "Epoch 5/10\n",
            "1875/1875 [==============================] - 81s 43ms/step - loss: 0.0652 - accuracy: 0.9797 - val_loss: 0.0218 - val_accuracy: 0.9929\n",
            "Epoch 6/10\n",
            "1875/1875 [==============================] - 78s 42ms/step - loss: 0.0591 - accuracy: 0.9818 - val_loss: 0.0198 - val_accuracy: 0.9943\n",
            "Epoch 7/10\n",
            "1875/1875 [==============================] - 76s 40ms/step - loss: 0.0558 - accuracy: 0.9830 - val_loss: 0.0199 - val_accuracy: 0.9936\n",
            "Epoch 8/10\n",
            "1875/1875 [==============================] - 75s 40ms/step - loss: 0.0512 - accuracy: 0.9849 - val_loss: 0.0200 - val_accuracy: 0.9928\n",
            "Epoch 9/10\n",
            "1875/1875 [==============================] - 77s 41ms/step - loss: 0.0482 - accuracy: 0.9855 - val_loss: 0.0172 - val_accuracy: 0.9944\n",
            "Epoch 10/10\n",
            "1875/1875 [==============================] - 75s 40ms/step - loss: 0.0445 - accuracy: 0.9862 - val_loss: 0.0202 - val_accuracy: 0.9931\n"
          ]
        }
      ]
    },
    {
      "cell_type": "markdown",
      "source": [
        "Evaluate the model"
      ],
      "metadata": {
        "id": "yrDfq-oh2YnD"
      }
    },
    {
      "cell_type": "code",
      "source": [
        "test_loss, test_acc = model.evaluate(x_test, y_test)\n",
        "print(\"Test accuracy:\", test_acc)"
      ],
      "metadata": {
        "colab": {
          "base_uri": "https://localhost:8080/"
        },
        "id": "hIh-JTfbwS9L",
        "outputId": "10197cc3-51e9-4ea0-b18a-c7b936db3141"
      },
      "execution_count": 21,
      "outputs": [
        {
          "output_type": "stream",
          "name": "stdout",
          "text": [
            "313/313 [==============================] - 3s 9ms/step - loss: 0.0202 - accuracy: 0.9931\n",
            "Test accuracy: 0.9930999875068665\n"
          ]
        }
      ]
    },
    {
      "cell_type": "code",
      "source": [
        "# Assuming 'model' is your trained CNN model\n",
        "\n",
        "import numpy as np\n",
        "import matplotlib.pyplot as plt\n",
        "\n",
        "# Choose an image from the test set for prediction\n",
        "image_index = 0  # Change this index as needed\n",
        "sample_image = x_test[image_index].reshape(1, 28, 28, 1)\n",
        "\n",
        "# Make a prediction\n",
        "prediction = model.predict(sample_image)\n",
        "predicted_class = np.argmax(prediction)\n",
        "\n",
        "# Display the image and predicted class\n",
        "plt.imshow(sample_image.reshape(28, 28), cmap='gray')\n",
        "plt.title(f\"Predicted: {predicted_class}\")\n",
        "plt.show()\n"
      ],
      "metadata": {
        "colab": {
          "base_uri": "https://localhost:8080/",
          "height": 469
        },
        "id": "2ReOH4WBwVkn",
        "outputId": "624a7be4-ce43-45c2-e283-7fff9007ca15"
      },
      "execution_count": 22,
      "outputs": [
        {
          "output_type": "stream",
          "name": "stdout",
          "text": [
            "1/1 [==============================] - 0s 89ms/step\n"
          ]
        },
        {
          "output_type": "display_data",
          "data": {
            "text/plain": [
              "<Figure size 640x480 with 1 Axes>"
            ],
            "image/png": "[encoded data removed]"
          },
          "metadata": {}
        }
      ]
    },
    {
      "cell_type": "code",
      "source": [
        "import cv2\n",
        "import numpy as np\n",
        "import matplotlib.pyplot as plt\n",
        "\n",
        "# File path of the image you want to predict\n",
        "file_path = '/content/1.jpg'  # Change this to your image file path\n",
        "\n",
        "# Read the image using OpenCV\n",
        "input_image = cv2.imread(file_path, cv2.IMREAD_GRAYSCALE)\n",
        "\n",
        "# Resize the image to match the MNIST input shape (28x28)\n",
        "resized_image = cv2.resize(input_image, (28, 28), interpolation=cv2.INTER_AREA)\n",
        "\n",
        "# Normalize the pixel values\n",
        "normalized_image = resized_image / 255.0\n",
        "\n",
        "# Reshape the image to fit the CNN model input shape\n",
        "sample_image = normalized_image.reshape(1, 28, 28, 1)\n",
        "\n",
        "# Make a prediction using the model\n",
        "prediction = model.predict(sample_image)\n",
        "predicted_class = np.argmax(prediction)\n",
        "\n",
        "# Display the image and predicted class\n",
        "plt.imshow(resized_image, cmap='gray')\n",
        "plt.title(f\"Predicted: {predicted_class}\")\n",
        "plt.show()\n"
      ],
      "metadata": {
        "colab": {
          "base_uri": "https://localhost:8080/",
          "height": 469
        },
        "id": "oyaCq0bEwkSU",
        "outputId": "ef3eb542-62c8-4b7e-ebe7-30225276f18f"
      },
      "execution_count": 23,
      "outputs": [
        {
          "output_type": "stream",
          "name": "stdout",
          "text": [
            "1/1 [==============================] - 0s 21ms/step\n"
          ]
        },
        {
          "output_type": "display_data",
          "data": {
            "text/plain": [
              "<Figure size 640x480 with 1 Axes>"
            ],
            "image/png": "[encoded data removed]"
          },
          "metadata": {}
        }
      ]
    },
    {
      "cell_type": "code",
      "source": [
        "import cv2\n",
        "import numpy as np\n",
        "import matplotlib.pyplot as plt\n",
        "\n",
        "# File path of the image you want to predict\n",
        "file_path = '/content/2.jpg'  # Change this to your image file path\n",
        "\n",
        "# Read the image using OpenCV\n",
        "input_image = cv2.imread(file_path, cv2.IMREAD_GRAYSCALE)\n",
        "\n",
        "# Resize the image to match the MNIST input shape (28x28)\n",
        "resized_image = cv2.resize(input_image, (28, 28), interpolation=cv2.INTER_AREA)\n",
        "\n",
        "# Normalize the pixel values\n",
        "normalized_image = resized_image / 255.0\n",
        "\n",
        "# Reshape the image to fit the CNN model input shape\n",
        "sample_image = normalized_image.reshape(1, 28, 28, 1)\n",
        "\n",
        "# Make a prediction using the model\n",
        "prediction = model.predict(sample_image)\n",
        "predicted_class = np.argmax(prediction)\n",
        "\n",
        "# Display the image and predicted class\n",
        "plt.imshow(resized_image, cmap='gray')\n",
        "plt.title(f\"Predicted: {predicted_class}\")\n",
        "plt.show()\n"
      ],
      "metadata": {
        "colab": {
          "base_uri": "https://localhost:8080/",
          "height": 469
        },
        "id": "oezIum8wxP_1",
        "outputId": "210a277a-2214-4714-da58-6d8d928a0000"
      },
      "execution_count": 24,
      "outputs": [
        {
          "output_type": "stream",
          "name": "stdout",
          "text": [
            "1/1 [==============================] - 0s 23ms/step\n"
          ]
        },
        {
          "output_type": "display_data",
          "data": {
            "text/plain": [
              "<Figure size 640x480 with 1 Axes>"
            ],
            "image/png": "[encoded data removed]"
          },
          "metadata": {}
        }
      ]
    },
    {
      "cell_type": "code",
      "source": [
        "# Save the model\n",
        "model.save('mnist_simple_model.h5')"
      ],
      "metadata": {
        "colab": {
          "base_uri": "https://localhost:8080/"
        },
        "id": "LBsMq9gyxSRE",
        "outputId": "d2187a86-6211-4918-dceb-c9f907a88cda"
      },
      "execution_count": 28,
      "outputs": [
        {
          "output_type": "stream",
          "name": "stderr",
          "text": [
            "/usr/local/lib/python3.10/dist-packages/keras/src/engine/training.py:3103: UserWarning: You are saving your model as an HDF5 file via `model.save()`. This file format is considered legacy. We recommend using instead the native Keras format, e.g. `model.save('my_model.keras')`.\n",
            "  saving_api.save_model(\n"
          ]
        }
      ]
    },
    {
      "cell_type": "code",
      "source": [],
      "metadata": {
        "id": "__ExHF_PxogO"
      },
      "execution_count": null,
      "outputs": []
    }
  ],
  "metadata": {
    "colab": {
      "provenance": []
    },
    "kernelspec": {
      "display_name": "Python 3",
      "name": "python3"
    },
    "language_info": {
      "name": "python"
    }
  },
  "nbformat": 4,
  "nbformat_minor": 0
}